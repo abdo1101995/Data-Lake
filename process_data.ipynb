{
 "cells": [
  {
   "cell_type": "code",
   "execution_count": 1,
   "metadata": {
    "editable": true
   },
   "outputs": [],
   "source": [
    "import configparser\n",
    "from datetime import datetime\n",
    "from pyspark.sql.functions import udf, col,monotonically_increasing_id\n",
    "from pyspark.sql.functions import year, month, dayofmonth, hour, weekofyear, date_format,dayofweek\n",
    "from pyspark.sql import SparkSession\n",
    "import os\n",
    "from pyspark.sql.types import  TimestampType"
   ]
  },
  {
   "cell_type": "code",
   "execution_count": 2,
   "metadata": {
    "editable": true
   },
   "outputs": [],
   "source": [
    "output_data = \"s3a://data-lake-pyspark95/\"\n",
    "input_data = \"s3a://udacity-dend/\"\n",
    "log_data =  input_data + \"log_data/*.json\"\n",
    "song_data=input_data + \"song_data/A/A/A/*.json\""
   ]
  },
  {
   "cell_type": "code",
   "execution_count": 3,
   "metadata": {
    "editable": true
   },
   "outputs": [],
   "source": [
    "config = configparser.ConfigParser()\n",
    "\n",
    "#Normally this file should be in ~/.aws/credentials\n",
    "config.read('dl.cfg')\n",
    "\n",
    "os.environ[\"AWS_ACCESS_KEY_ID\"]= config['AWS']['AWS_ACCESS_KEY_ID']\n",
    "os.environ[\"AWS_SECRET_ACCESS_KEY\"]= config['AWS']['AWS_SECRET_ACCESS_KEY']"
   ]
  },
  {
   "cell_type": "code",
   "execution_count": 4,
   "metadata": {
    "editable": true
   },
   "outputs": [],
   "source": [
    "spark = SparkSession.builder\\\n",
    "                     .config(\"spark.jars.packages\",\"org.apache.hadoop:hadoop-aws:2.7.0\")\\\n",
    "                     .getOrCreate()"
   ]
  },
  {
   "cell_type": "code",
   "execution_count": 5,
   "metadata": {
    "editable": true
   },
   "outputs": [],
   "source": [
    "df = spark.read.json(song_data)"
   ]
  },
  {
   "cell_type": "code",
   "execution_count": 6,
   "metadata": {
    "editable": true
   },
   "outputs": [
    {
     "name": "stdout",
     "output_type": "stream",
     "text": [
      "root\n",
      " |-- artist_id: string (nullable = true)\n",
      " |-- artist_latitude: double (nullable = true)\n",
      " |-- artist_location: string (nullable = true)\n",
      " |-- artist_longitude: double (nullable = true)\n",
      " |-- artist_name: string (nullable = true)\n",
      " |-- duration: double (nullable = true)\n",
      " |-- num_songs: long (nullable = true)\n",
      " |-- song_id: string (nullable = true)\n",
      " |-- title: string (nullable = true)\n",
      " |-- year: long (nullable = true)\n",
      "\n"
     ]
    }
   ],
   "source": [
    "df.printSchema()"
   ]
  },
  {
   "cell_type": "code",
   "execution_count": 7,
   "metadata": {
    "editable": true
   },
   "outputs": [
    {
     "name": "stdout",
     "output_type": "stream",
     "text": [
      "+------------------+---------------+--------------------+----------------+--------------------+---------+---------+------------------+--------------------+----+\n",
      "|         artist_id|artist_latitude|     artist_location|artist_longitude|         artist_name| duration|num_songs|           song_id|               title|year|\n",
      "+------------------+---------------+--------------------+----------------+--------------------+---------+---------+------------------+--------------------+----+\n",
      "|ARTC1LV1187B9A4858|        51.4536|Goldsmith's Colle...|        -0.01802|  The Bonzo Dog Band|301.40036|        1|SOAFBCP12A8C13CC7D|King Of Scurf (20...|1972|\n",
      "|ARA23XO1187B9AF18F|       40.57885|Carteret, New Jersey|       -74.21956|     The Smithereens|  192.522|        1|SOKTJDS12AF72A25E5|Drown In My Own T...|   0|\n",
      "|ARSVTNL1187B992A91|       51.50632|     London, England|        -0.12714|       Jonathan King|129.85424|        1|SOEKAZG12AB018837E|I'll Slap Your Fa...|2001|\n",
      "|AR73AIO1187B9AD57B|       37.77916|   San Francisco, CA|      -122.42005|   Western Addiction|118.07302|        1|SOQPWCR12A6D4FB2A3|A Poor Recipe For...|2005|\n",
      "|ARXQBR11187B98A2CC|           null|  Liverpool, England|            null|Frankie Goes To H...|821.05424|        1|SOBRKGM12A8C139EF6|Welcome to the Pl...|1985|\n",
      "+------------------+---------------+--------------------+----------------+--------------------+---------+---------+------------------+--------------------+----+\n",
      "only showing top 5 rows\n",
      "\n"
     ]
    }
   ],
   "source": [
    "df.show(5)"
   ]
  },
  {
   "cell_type": "code",
   "execution_count": 9,
   "metadata": {
    "editable": true
   },
   "outputs": [],
   "source": [
    "songs_table =df.select('song_id', 'title', 'artist_id','year', 'duration').dropDuplicates()"
   ]
  },
  {
   "cell_type": "code",
   "execution_count": 62,
   "metadata": {
    "editable": true
   },
   "outputs": [],
   "source": [
    "songs_table.write.partitionBy('year', 'artist_id').parquet(output_data+\"songs_table/.parquet\", 'overwrite')\n",
    "                     "
   ]
  },
  {
   "cell_type": "code",
   "execution_count": 10,
   "metadata": {
    "editable": true
   },
   "outputs": [
    {
     "data": {
      "text/html": [
       "<div>\n",
       "<style scoped>\n",
       "    .dataframe tbody tr th:only-of-type {\n",
       "        vertical-align: middle;\n",
       "    }\n",
       "\n",
       "    .dataframe tbody tr th {\n",
       "        vertical-align: top;\n",
       "    }\n",
       "\n",
       "    .dataframe thead th {\n",
       "        text-align: right;\n",
       "    }\n",
       "</style>\n",
       "<table border=\"1\" class=\"dataframe\">\n",
       "  <thead>\n",
       "    <tr style=\"text-align: right;\">\n",
       "      <th></th>\n",
       "      <th>song_id</th>\n",
       "      <th>title</th>\n",
       "      <th>artist_id</th>\n",
       "      <th>year</th>\n",
       "      <th>duration</th>\n",
       "    </tr>\n",
       "  </thead>\n",
       "  <tbody>\n",
       "    <tr>\n",
       "      <th>0</th>\n",
       "      <td>SODZYPO12A8C13A91E</td>\n",
       "      <td>Burn My Body (Album Version)</td>\n",
       "      <td>AR1C2IX1187B99BF74</td>\n",
       "      <td>0</td>\n",
       "      <td>177.99791</td>\n",
       "    </tr>\n",
       "    <tr>\n",
       "      <th>1</th>\n",
       "      <td>SOIGHOD12A8C13B5A1</td>\n",
       "      <td>Indian Angel</td>\n",
       "      <td>ARY589G1187B9A9F4E</td>\n",
       "      <td>2004</td>\n",
       "      <td>171.57179</td>\n",
       "    </tr>\n",
       "    <tr>\n",
       "      <th>2</th>\n",
       "      <td>SOOVHYF12A8C134892</td>\n",
       "      <td>I'll Be Waiting</td>\n",
       "      <td>ARCLYBR1187FB53913</td>\n",
       "      <td>1989</td>\n",
       "      <td>304.56118</td>\n",
       "    </tr>\n",
       "    <tr>\n",
       "      <th>3</th>\n",
       "      <td>SOAPERH12A58A787DC</td>\n",
       "      <td>The One And Only (Edited)</td>\n",
       "      <td>ARZ5H0P1187B98A1DD</td>\n",
       "      <td>0</td>\n",
       "      <td>230.42567</td>\n",
       "    </tr>\n",
       "    <tr>\n",
       "      <th>4</th>\n",
       "      <td>SOHKNRJ12A6701D1F8</td>\n",
       "      <td>Drop of Rain</td>\n",
       "      <td>AR10USD1187B99F3F1</td>\n",
       "      <td>0</td>\n",
       "      <td>189.57016</td>\n",
       "    </tr>\n",
       "  </tbody>\n",
       "</table>\n",
       "</div>"
      ],
      "text/plain": [
       "              song_id                         title           artist_id  year  \\\n",
       "0  SODZYPO12A8C13A91E  Burn My Body (Album Version)  AR1C2IX1187B99BF74     0   \n",
       "1  SOIGHOD12A8C13B5A1                  Indian Angel  ARY589G1187B9A9F4E  2004   \n",
       "2  SOOVHYF12A8C134892               I'll Be Waiting  ARCLYBR1187FB53913  1989   \n",
       "3  SOAPERH12A58A787DC     The One And Only (Edited)  ARZ5H0P1187B98A1DD     0   \n",
       "4  SOHKNRJ12A6701D1F8                  Drop of Rain  AR10USD1187B99F3F1     0   \n",
       "\n",
       "    duration  \n",
       "0  177.99791  \n",
       "1  171.57179  \n",
       "2  304.56118  \n",
       "3  230.42567  \n",
       "4  189.57016  "
      ]
     },
     "execution_count": 10,
     "metadata": {},
     "output_type": "execute_result"
    }
   ],
   "source": [
    "songs_table.limit(5).toPandas()"
   ]
  },
  {
   "cell_type": "code",
   "execution_count": 11,
   "metadata": {
    "editable": true
   },
   "outputs": [],
   "source": [
    "artists_table = df.select(\"artist_id\",\"artist_name\", \"artist_location\", \"artist_latitude\", \"artist_longitude\")\\\n",
    "                    .withColumnRenamed(\"artist_name\",\"name\")\\\n",
    "                     .withColumnRenamed(\"artist_location\",\"location\")\\\n",
    "                      .withColumnRenamed(\"artist_latitude\",\"lattitude\")\\\n",
    "                       .withColumnRenamed(\"artist_longitude\",\"longitude\")\\\n",
    "                        .dropDuplicates()"
   ]
  },
  {
   "cell_type": "code",
   "execution_count": 63,
   "metadata": {
    "editable": true
   },
   "outputs": [],
   "source": [
    "artists_table.write.parquet(output_data+\"artist_table/\", mode = \"overwrite\")"
   ]
  },
  {
   "cell_type": "code",
   "execution_count": 12,
   "metadata": {
    "editable": true
   },
   "outputs": [
    {
     "name": "stdout",
     "output_type": "stream",
     "text": [
      "+------------------+-----------------+--------------------+---------+---------+\n",
      "|         artist_id|             name|            location|lattitude|longitude|\n",
      "+------------------+-----------------+--------------------+---------+---------+\n",
      "|AR5LMPY1187FB573FE|Chaka Khan_ Rufus|         Chicago, IL| 41.88415|-87.63241|\n",
      "|ARXR32B1187FB57099|              Gob|                    |     null|     null|\n",
      "|ARA23XO1187B9AF18F|  The Smithereens|Carteret, New Jersey| 40.57885|-74.21956|\n",
      "|ARZKCQM1257509D107|       Dataphiles|                    |     null|     null|\n",
      "|ARC1IHZ1187FB4E920|     Jamie Cullum|                    |     null|     null|\n",
      "+------------------+-----------------+--------------------+---------+---------+\n",
      "only showing top 5 rows\n",
      "\n"
     ]
    }
   ],
   "source": [
    "artists_table.show(5)"
   ]
  },
  {
   "cell_type": "code",
   "execution_count": 13,
   "metadata": {
    "editable": true
   },
   "outputs": [
    {
     "ename": "AttributeError",
     "evalue": "'NoneType' object has no attribute 'show'",
     "output_type": "error",
     "traceback": [
      "\u001b[0;31m---------------------------------------------------------------------------\u001b[0m",
      "\u001b[0;31mAttributeError\u001b[0m                            Traceback (most recent call last)",
      "\u001b[0;32m<ipython-input-13-4035c1cbbd60>\u001b[0m in \u001b[0;36m<module>\u001b[0;34m()\u001b[0m\n\u001b[0;32m----> 1\u001b[0;31m \u001b[0martists_table\u001b[0m\u001b[0;34m.\u001b[0m\u001b[0mshow\u001b[0m\u001b[0;34m(\u001b[0m\u001b[0;36m5\u001b[0m\u001b[0;34m)\u001b[0m\u001b[0;34m\u001b[0m\u001b[0m\n\u001b[0m",
      "\u001b[0;31mAttributeError\u001b[0m: 'NoneType' object has no attribute 'show'"
     ]
    }
   ],
   "source": [
    "artists_table.show(5)"
   ]
  },
  {
   "cell_type": "code",
   "execution_count": 13,
   "metadata": {
    "editable": true
   },
   "outputs": [],
   "source": [
    " df1=spark.read.json(\"s3a://udacity-dend/log-data/2018/11/*.json\")"
   ]
  },
  {
   "cell_type": "code",
   "execution_count": 14,
   "metadata": {
    "editable": true
   },
   "outputs": [
    {
     "name": "stdout",
     "output_type": "stream",
     "text": [
      "root\n",
      " |-- artist: string (nullable = true)\n",
      " |-- auth: string (nullable = true)\n",
      " |-- firstName: string (nullable = true)\n",
      " |-- gender: string (nullable = true)\n",
      " |-- itemInSession: long (nullable = true)\n",
      " |-- lastName: string (nullable = true)\n",
      " |-- length: double (nullable = true)\n",
      " |-- level: string (nullable = true)\n",
      " |-- location: string (nullable = true)\n",
      " |-- method: string (nullable = true)\n",
      " |-- page: string (nullable = true)\n",
      " |-- registration: double (nullable = true)\n",
      " |-- sessionId: long (nullable = true)\n",
      " |-- song: string (nullable = true)\n",
      " |-- status: long (nullable = true)\n",
      " |-- ts: long (nullable = true)\n",
      " |-- userAgent: string (nullable = true)\n",
      " |-- userId: string (nullable = true)\n",
      "\n"
     ]
    }
   ],
   "source": [
    " df1.printSchema()"
   ]
  },
  {
   "cell_type": "code",
   "execution_count": 15,
   "metadata": {
    "editable": true
   },
   "outputs": [],
   "source": [
    "page_df= df1.filter(df1.page==\"NextSong\")"
   ]
  },
  {
   "cell_type": "code",
   "execution_count": 17,
   "metadata": {
    "editable": true
   },
   "outputs": [],
   "source": [
    " users_table =page_df.select(\"userId\", \"firstName\", \"lastName\", \"gender\", \"level\").dropDuplicates()"
   ]
  },
  {
   "cell_type": "code",
   "execution_count": 18,
   "metadata": {
    "editable": true
   },
   "outputs": [
    {
     "name": "stdout",
     "output_type": "stream",
     "text": [
      "+------+---------+--------+------+-----+\n",
      "|userId|firstName|lastName|gender|level|\n",
      "+------+---------+--------+------+-----+\n",
      "|    57|Katherine|     Gay|     F| free|\n",
      "|    84|  Shakira|    Hunt|     F| free|\n",
      "|    22|     Sean|  Wilson|     F| free|\n",
      "|    52| Theodore|   Smith|     M| free|\n",
      "|    80|    Tegan|  Levine|     F| paid|\n",
      "+------+---------+--------+------+-----+\n",
      "only showing top 5 rows\n",
      "\n"
     ]
    }
   ],
   "source": [
    " users_table.show(5)"
   ]
  },
  {
   "cell_type": "code",
   "execution_count": 69,
   "metadata": {
    "editable": true
   },
   "outputs": [],
   "source": [
    "users_table.write.parquet(output_data+\"users_table/\", mode = \"overwrite\")"
   ]
  },
  {
   "cell_type": "code",
   "execution_count": 20,
   "metadata": {
    "editable": true
   },
   "outputs": [],
   "source": [
    "get_datetime =udf(lambda x: datetime.fromtimestamp(x / 1000), TimestampType())\n",
    "page_df= page_df.withColumn(\"start_time\",get_datetime (page_df.ts))"
   ]
  },
  {
   "cell_type": "code",
   "execution_count": 21,
   "metadata": {
    "editable": true
   },
   "outputs": [],
   "source": [
    "   # extract columns to create time table\n",
    "time_table =page_df.withColumn(\"hour\",hour(\"start_time\"))\\\n",
    "                .withColumn(\"day\",dayofmonth(\"start_time\"))\\\n",
    "                .withColumn(\"week\",weekofyear(\"start_time\"))\\\n",
    "                .withColumn(\"month\",month(\"start_time\"))\\\n",
    "                .withColumn(\"year\",year(\"start_time\"))\\\n",
    "                 .withColumn(\"weekday\",dayofweek(\"start_time\"))\n",
    "                 \n",
    "                   "
   ]
  },
  {
   "cell_type": "code",
   "execution_count": 22,
   "metadata": {
    "editable": true
   },
   "outputs": [],
   "source": [
    "time_table=time_table.select(\"start_time\",\"hour\",\"week\",\"month\",\"year\",\"weekday\").dropDuplicates()"
   ]
  },
  {
   "cell_type": "code",
   "execution_count": 75,
   "metadata": {
    "editable": true
   },
   "outputs": [],
   "source": [
    "time_table.write.partitionBy(\"year\",\"month\").parquet(output_data+\"time_table/\", mode = \"overwrite\")"
   ]
  },
  {
   "cell_type": "code",
   "execution_count": 23,
   "metadata": {
    "editable": true
   },
   "outputs": [
    {
     "name": "stdout",
     "output_type": "stream",
     "text": [
      "+--------------------+----+----+-----+----+-------+\n",
      "|          start_time|hour|week|month|year|weekday|\n",
      "+--------------------+----+----+-----+----+-------+\n",
      "|2018-11-03 16:58:...|  16|  44|   11|2018|      7|\n",
      "|2018-11-14 05:08:...|   5|  46|   11|2018|      4|\n",
      "|2018-11-12 06:13:...|   6|  46|   11|2018|      2|\n",
      "|2018-11-14 12:11:...|  12|  46|   11|2018|      4|\n",
      "|2018-11-21 19:48:...|  19|  47|   11|2018|      4|\n",
      "|2018-11-28 21:42:...|  21|  48|   11|2018|      4|\n",
      "|2018-11-06 06:13:...|   6|  45|   11|2018|      3|\n",
      "|2018-11-30 17:47:...|  17|  48|   11|2018|      6|\n",
      "|2018-11-20 20:57:...|  20|  47|   11|2018|      3|\n",
      "|2018-11-29 21:00:...|  21|  48|   11|2018|      5|\n",
      "+--------------------+----+----+-----+----+-------+\n",
      "only showing top 10 rows\n",
      "\n"
     ]
    }
   ],
   "source": [
    "time_table.show(10)"
   ]
  },
  {
   "cell_type": "code",
   "execution_count": 24,
   "metadata": {
    "editable": true
   },
   "outputs": [],
   "source": [
    "songplays_table = page_df.join(df,(page_df.song==df.title))\\\n",
    "                        .select(\n",
    "                                \"start_time\",\n",
    "                                col('userId').alias('user_id'),\n",
    "                                \"level\",\n",
    "                                \"song_id\",\n",
    "                                \"artist_id\",\n",
    "                                col('sessionId').alias('session_id'),\n",
    "                                \"location\",\n",
    "                                col('userAgent').alias('user_agent'))\\\n",
    "                            .withColumn('songplay_id', monotonically_increasing_id())"
   ]
  },
  {
   "cell_type": "code",
   "execution_count": 25,
   "metadata": {
    "editable": true
   },
   "outputs": [
    {
     "name": "stdout",
     "output_type": "stream",
     "text": [
      "+--------------------+-------+-----+------------------+------------------+----------+--------------------+--------------------+-----------+\n",
      "|          start_time|user_id|level|           song_id|         artist_id|session_id|            location|          user_agent|songplay_id|\n",
      "+--------------------+-------+-----+------------------+------------------+----------+--------------------+--------------------+-----------+\n",
      "|2018-11-15 16:19:...|     97| paid|SOBLFFE12AF72AA5BA|ARJNIUY12298900C91|       605|Lansing-East Lans...|\"Mozilla/5.0 (X11...|          0|\n",
      "+--------------------+-------+-----+------------------+------------------+----------+--------------------+--------------------+-----------+\n",
      "\n"
     ]
    }
   ],
   "source": [
    "songplays_table.show()"
   ]
  },
  {
   "cell_type": "code",
   "execution_count": 26,
   "metadata": {
    "editable": true
   },
   "outputs": [],
   "source": [
    "songplays_table=songplays_table.join(time_table, songplays_table.start_time == time_table.start_time, how=\"inner\")\\\n",
    "                                .select(\"songplay_id\",\n",
    "                                        songplays_table.start_time,\n",
    "                                        \"user_id\", \n",
    "                                        \"level\", \n",
    "                                        \"song_id\",\n",
    "                                        \"artist_id\",\n",
    "                                        \"session_id\",\n",
    "                                        \"location\",\n",
    "                                        \"user_agent\",\n",
    "                                        \"year\",\n",
    "                                        \"month\")\\\n",
    "                                .dropDuplicates()\n"
   ]
  },
  {
   "cell_type": "code",
   "execution_count": 80,
   "metadata": {
    "editable": true
   },
   "outputs": [],
   "source": [
    "songplays_table.write.partitionBy(\"year\",\"month\").parquet(output_data+\"songplays_table/\", mode = \"overwrite\")"
   ]
  },
  {
   "cell_type": "code",
   "execution_count": 27,
   "metadata": {
    "editable": true
   },
   "outputs": [
    {
     "name": "stdout",
     "output_type": "stream",
     "text": [
      "+-----------+--------------------+-------+-----+------------------+------------------+----------+--------------------+--------------------+----+-----+\n",
      "|songplay_id|          start_time|user_id|level|           song_id|         artist_id|session_id|            location|          user_agent|year|month|\n",
      "+-----------+--------------------+-------+-----+------------------+------------------+----------+--------------------+--------------------+----+-----+\n",
      "|          0|2018-11-15 16:19:...|     97| paid|SOBLFFE12AF72AA5BA|ARJNIUY12298900C91|       605|Lansing-East Lans...|\"Mozilla/5.0 (X11...|2018|   11|\n",
      "+-----------+--------------------+-------+-----+------------------+------------------+----------+--------------------+--------------------+----+-----+\n",
      "\n"
     ]
    }
   ],
   "source": [
    "songplays_table.show(10)"
   ]
  },
  {
   "cell_type": "code",
   "execution_count": null,
   "metadata": {
    "editable": true
   },
   "outputs": [],
   "source": []
  }
 ],
 "metadata": {
  "kernelspec": {
   "display_name": "Python 3",
   "language": "python",
   "name": "python3"
  },
  "language_info": {
   "codemirror_mode": {
    "name": "ipython",
    "version": 3
   },
   "file_extension": ".py",
   "mimetype": "text/x-python",
   "name": "python",
   "nbconvert_exporter": "python",
   "pygments_lexer": "ipython3",
   "version": "3.6.3"
  }
 },
 "nbformat": 4,
 "nbformat_minor": 4
}
